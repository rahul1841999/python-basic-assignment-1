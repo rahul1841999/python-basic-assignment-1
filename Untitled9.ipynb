{
 "cells": [
  {
   "cell_type": "markdown",
   "id": "a9673a61",
   "metadata": {},
   "source": [
    "Question 1) In the below elements which of them are values or an expression? eg:- values can be integer or string and expressions will be mathematical operators.\n",
    "* \n",
    "'hello'\n",
    "-87.8\n",
    "- \n",
    "/ \n",
    "+\t\n",
    "6 \n",
    "\n",
    "#Answer)\n",
    "Values = 'hello' , -87.8 , 6\n",
    "Expression = * , - , / , +         "
   ]
  },
  {
   "cell_type": "markdown",
   "id": "acc1d2e6",
   "metadata": {},
   "source": [
    "Question 2) What is the difference between string and variable?\n",
    "\n",
    "Answer ) \n",
    "\n",
    "String : it is a data structure used to store the character's.\n",
    "    \n",
    "Variables : It is a place given to memory location, it is used to store the datastructure , valus and etc,"
   ]
  },
  {
   "cell_type": "markdown",
   "id": "553f8b4a",
   "metadata": {},
   "source": [
    "question 3) Describe three different data types.\n",
    "Answer)\n",
    "In python we have mainly 3 data types,\n",
    "a) Numeric datatype use to store/describe numeric vlues again in numeric datatype we have 3 types:\n",
    "i)Integer : to store numbers\n",
    "ii) float : to store decimal values\n",
    "iii) Complex\n",
    "\n",
    "b) Character datatypes\n",
    "i) String\n",
    "\n",
    "c) Boolean datatypes\n",
    "i) True\n",
    "Ii) False"
   ]
  },
  {
   "cell_type": "raw",
   "id": "8a76069f",
   "metadata": {},
   "source": [
    "Question 4) What is an expression made up of? What do all expressions do?\n",
    "Answer)  Expression is a combination of operators and operands that is interpreted to produce some other value. In any programming language, an expression is evaluated as per the precedence of its operators.\n",
    "\n"
   ]
  },
  {
   "cell_type": "raw",
   "id": "8a91cad6",
   "metadata": {},
   "source": [
    "Question 5) This assignment statements, like spam = 10. What is the difference between an expression and a statement?\n",
    "Answer: spam = 10\n",
    "Here, spam is a variable it is a name given to the data 10, we can also call it as identifier as it acts as a identifer for 10.\n",
    "\n",
    " 10 is the numeric integer datatype stored in a spam varoiable.\n",
    "\n",
    "def expression : Expressions are representations of value. They are different from statement in the fact that statements do something while expressions are representation of value. For example any string is also an expressions since it represents the value of the string as well.\n",
    "\n",
    "def Statement :  Statements are used to carry out actions and control the flow of a program, while expressions are used to produce a value.\n",
    "\n",
    "\n"
   ]
  },
  {
   "cell_type": "raw",
   "id": "a39592ee",
   "metadata": {},
   "source": [
    "Question 6) After running the following code, what does the variable bacon contain?\n",
    "bacon = 22\n",
    "bacon + 1\n",
    "\n",
    "Answer : bacon = 22 (because we are not assigning it)"
   ]
  },
  {
   "cell_type": "code",
   "execution_count": 2,
   "id": "c1dff699",
   "metadata": {},
   "outputs": [
    {
     "data": {
      "text/plain": [
       "23"
      ]
     },
     "execution_count": 2,
     "metadata": {},
     "output_type": "execute_result"
    }
   ],
   "source": [
    "bacon = 22\n",
    "bacon + 1"
   ]
  },
  {
   "cell_type": "code",
   "execution_count": 3,
   "id": "d4a0654b",
   "metadata": {},
   "outputs": [
    {
     "data": {
      "text/plain": [
       "22"
      ]
     },
     "execution_count": 3,
     "metadata": {},
     "output_type": "execute_result"
    }
   ],
   "source": [
    "bacon"
   ]
  },
  {
   "cell_type": "raw",
   "id": "64782248",
   "metadata": {},
   "source": [
    "Question 7) What should the values of the following two terms be?\n",
    "'spam' + 'spamspam'\n",
    "'spam' * 3\n",
    "\n",
    "Answer : i} 'spamspamspam'\n",
    "        ii} 'spamspamspam'\n"
   ]
  },
  {
   "cell_type": "code",
   "execution_count": 6,
   "id": "eb0f61b1",
   "metadata": {},
   "outputs": [
    {
     "data": {
      "text/plain": [
       "'spamspamspam'"
      ]
     },
     "execution_count": 6,
     "metadata": {},
     "output_type": "execute_result"
    }
   ],
   "source": [
    "'spam' + 'spamspam'"
   ]
  },
  {
   "cell_type": "code",
   "execution_count": 7,
   "id": "ea7d5fe0",
   "metadata": {},
   "outputs": [
    {
     "data": {
      "text/plain": [
       "'spamspamspam'"
      ]
     },
     "execution_count": 7,
     "metadata": {},
     "output_type": "execute_result"
    }
   ],
   "source": [
    "'spam'*3"
   ]
  },
  {
   "cell_type": "raw",
   "id": "9a616f37",
   "metadata": {},
   "source": [
    "Quesion 8) Why is eggs a valid variable name while 100 is invalid?\n",
    "\n",
    "Answer) Because according to the idenifier rules eggs is valid but 100 is not valid\n",
    "\n",
    "100 is an integer value and according to identifiers rules variables should not start with numbers."
   ]
  },
  {
   "cell_type": "raw",
   "id": "741deed7",
   "metadata": {},
   "source": [
    "Question 9) What three functions can be used to get the integer, floating-point number, or string version of a value?\n",
    "Answer:\n",
    "    \n",
    "    i} integer : int(input(\"enter the integer value :\"))\n",
    "   ii} Floating : float(input(\"enter the float value : \"))\n",
    "  iii} String : input(\"enter the string value : \")"
   ]
  },
  {
   "cell_type": "raw",
   "id": "7c862275",
   "metadata": {},
   "source": [
    "question 10 ) Why does this expression cause an error? How can you fix it?\n",
    "'I have eaten ' + 99 + ' burritos.'\n",
    "\n",
    "Answer: String cant collable with integer.\n",
    "    To fix this error convert int 99 to \"99\"\n",
    "    \n",
    "    like : \"I have eaten \" + \"99 \" + \"burritos\""
   ]
  },
  {
   "cell_type": "code",
   "execution_count": 9,
   "id": "c3d3ea7d",
   "metadata": {},
   "outputs": [
    {
     "data": {
      "text/plain": [
       "'I have eaten 99 burritos'"
      ]
     },
     "execution_count": 9,
     "metadata": {},
     "output_type": "execute_result"
    }
   ],
   "source": [
    "\"I have eaten \" + \"99 \" + \"burritos\""
   ]
  },
  {
   "cell_type": "code",
   "execution_count": null,
   "id": "4ff173af",
   "metadata": {},
   "outputs": [],
   "source": []
  }
 ],
 "metadata": {
  "kernelspec": {
   "display_name": "Python 3 (ipykernel)",
   "language": "python",
   "name": "python3"
  },
  "language_info": {
   "codemirror_mode": {
    "name": "ipython",
    "version": 3
   },
   "file_extension": ".py",
   "mimetype": "text/x-python",
   "name": "python",
   "nbconvert_exporter": "python",
   "pygments_lexer": "ipython3",
   "version": "3.9.12"
  }
 },
 "nbformat": 4,
 "nbformat_minor": 5
}
